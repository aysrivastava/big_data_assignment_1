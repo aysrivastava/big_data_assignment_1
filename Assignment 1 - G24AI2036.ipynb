{
 "cells": [
  {
   "cell_type": "code",
   "execution_count": 0,
   "metadata": {
    "application/vnd.databricks.v1+cell": {
     "cellMetadata": {
      "byteLimit": 2048000,
      "rowLimit": 10000
     },
     "inputWidgets": {},
     "nuid": "fa8cf4db-eaa8-4835-9677-715a95f8678a",
     "showTitle": false,
     "tableResultSettingsMap": {},
     "title": ""
    },
    "colab": {
     "base_uri": "https://localhost:8080/"
    },
    "id": "ctsnBUqsuldX",
    "outputId": "0831d921-cab9-4c61-91c1-c3642bd73279"
   },
   "outputs": [
    {
     "output_type": "stream",
     "name": "stdout",
     "output_type": "stream",
     "text": [
      "Requirement already satisfied: pysqlite3 in /local_disk0/.ephemeral_nfs/envs/pythonEnv-5a3e9ce1-939d-40b1-982e-efaa20c21a87/lib/python3.11/site-packages (0.5.4)\n\u001B[43mNote: you may need to restart the kernel using %restart_python or dbutils.library.restartPython() to use updated packages.\u001B[0m\n"
     ]
    }
   ],
   "source": [
    "!pip install pysqlite3"
   ]
  },
  {
   "cell_type": "code",
   "execution_count": 0,
   "metadata": {
    "application/vnd.databricks.v1+cell": {
     "cellMetadata": {
      "byteLimit": 2048000,
      "rowLimit": 10000
     },
     "inputWidgets": {},
     "nuid": "07b11cd6-78ac-4a84-af42-1386775aa355",
     "showTitle": false,
     "tableResultSettingsMap": {},
     "title": ""
    },
    "colab": {
     "base_uri": "https://localhost:8080/"
    },
    "id": "sUoSFGYCuzQ6",
    "outputId": "88a67c10-9867-4b5e-c2e4-a83694afdf99"
   },
   "outputs": [
    {
     "output_type": "stream",
     "name": "stdout",
     "output_type": "stream",
     "text": [
      "(3, 37, 2)\n"
     ]
    }
   ],
   "source": [
    "from pysqlite3 import dbapi2 as sqlite3\n",
    "print(sqlite3.sqlite_version_info)"
   ]
  },
  {
   "cell_type": "code",
   "execution_count": 0,
   "metadata": {
    "application/vnd.databricks.v1+cell": {
     "cellMetadata": {
      "byteLimit": 2048000,
      "rowLimit": 10000
     },
     "inputWidgets": {},
     "nuid": "508eaf72-4bef-448d-a6c2-b3e178f02518",
     "showTitle": false,
     "tableResultSettingsMap": {},
     "title": ""
    },
    "id": "xBvixzetvDXm"
   },
   "outputs": [],
   "source": [
    "import pandas as pd\n",
    "from IPython.display import display, HTML"
   ]
  },
  {
   "cell_type": "code",
   "execution_count": 0,
   "metadata": {
    "application/vnd.databricks.v1+cell": {
     "cellMetadata": {
      "byteLimit": 2048000,
      "rowLimit": 10000
     },
     "inputWidgets": {},
     "nuid": "9e262bb9-8a73-435f-a613-758f283c373f",
     "showTitle": false,
     "tableResultSettingsMap": {},
     "title": ""
    },
    "id": "p5qxWYqEvK5z"
   },
   "outputs": [],
   "source": [
    "dbname = \"music_streaming_1.db\"\n",
    "\n",
    "def printSqlResults(cursor, tbl):\n",
    "  df=pd.DataFrame(cursor.fetchall(), columns=[i[0] for i in cursor.description])\n",
    "  display(HTML(\"<b><font color=Green>\"+tbl+\"</font></b>\"+df.to_html(index=False)))\n",
    "\n",
    "def runSql(caption, query):\n",
    "  conn = sqlite3.connect(dbname)\n",
    "  cursor=conn.cursor()\n",
    "  cursor.execute(query)\n",
    "  printSqlResults(cursor,caption)\n",
    "  conn.close()"
   ]
  },
  {
   "cell_type": "code",
   "execution_count": 0,
   "metadata": {
    "application/vnd.databricks.v1+cell": {
     "cellMetadata": {
      "byteLimit": 2048000,
      "rowLimit": 10000
     },
     "inputWidgets": {},
     "nuid": "79e7598f-5bb3-4c9d-86f6-3b9494bc70c0",
     "showTitle": false,
     "tableResultSettingsMap": {},
     "title": ""
    },
    "id": "wXo3al1YwXn4"
   },
   "outputs": [],
   "source": [
    "conn = sqlite3.connect(dbname)\n",
    "cursor = conn.cursor()\n",
    "\n",
    "cursor.execute(\"\"\"\n",
    "      CREATE TABLE IF NOT EXISTS Users (\n",
    "        user_id INTEGER PRIMARY KEY,\n",
    "        name VARCHAR(100) NOT NULL,\n",
    "        email VARCHAR(100) NOT NULL UNIQUE\n",
    "      );\n",
    "\"\"\")\n",
    "\n",
    "cursor.execute(\"\"\"\n",
    "  CREATE TABLE IF NOT EXISTS Songs (\n",
    "    song_id INTEGER PRIMARY KEY,\n",
    "    title VARCHAR(100) NOT NULL,\n",
    "    artist VARCHAR(100) NOT NULL,\n",
    "    genre VARCHAR(100)\n",
    "  );\n",
    "\"\"\"\n",
    ")\n",
    "\n",
    "cursor.execute(\"\"\"\n",
    "    CREATE TABLE IF NOT EXISTS Listens (\n",
    "      listen_id INTEGER PRIMARY KEY,\n",
    "      user_id INTEGER NOT NULL,\n",
    "      song_id INTEGER NOT NULL,\n",
    "      rating FLOAT,\n",
    "      listen_time TIMESTAMP,\n",
    "      FOREIGN KEY (user_id) REFERENCES Users(user_id),\n",
    "      FOREIGN KEY (song_id) REFERENCES Songs(song_id)\n",
    "    );\n",
    "\"\"\")\n",
    "\n",
    "cursor.execute(\"\"\"\n",
    "  CREATE TABLE IF NOT EXISTS Recommendations (\n",
    "      recommendation_id INTEGER NOT NULL,\n",
    "      recommendation_time TIMESTAMP,\n",
    "      user_id INTEGER NOT NULL,\n",
    "      song_id INTEGER NOT NULL,\n",
    "      FOREIGN KEY (user_id) REFERENCES Users(user_id),\n",
    "      FOREIGN KEY (song_id) REFERENCES Songs(song_id)\n",
    "  );\n",
    "\"\"\")\n",
    "\n",
    "conn.commit()\n",
    "conn.close()"
   ]
  },
  {
   "cell_type": "code",
   "execution_count": 0,
   "metadata": {
    "application/vnd.databricks.v1+cell": {
     "cellMetadata": {
      "byteLimit": 2048000,
      "rowLimit": 10000
     },
     "inputWidgets": {},
     "nuid": "a5668a1f-735e-4d9f-b866-89c4dedc7c29",
     "showTitle": false,
     "tableResultSettingsMap": {},
     "title": ""
    },
    "colab": {
     "base_uri": "https://localhost:8080/",
     "height": 887
    },
    "id": "6JzFr1NVzC03",
    "outputId": "b6ef9953-beda-47fd-9977-675d69d2fff0"
   },
   "outputs": [
    {
     "output_type": "display_data",
     "data": {
      "text/html": [
       "<b><font color=Green>Users</font></b><table border=\"1\" class=\"dataframe\">\n",
       "  <thead>\n",
       "    <tr style=\"text-align: right;\">\n",
       "      <th>user_id</th>\n",
       "      <th>name</th>\n",
       "      <th>email</th>\n",
       "    </tr>\n",
       "  </thead>\n",
       "  <tbody>\n",
       "    <tr>\n",
       "      <td>1</td>\n",
       "      <td>Mickey</td>\n",
       "      <td>mickey@example.com</td>\n",
       "    </tr>\n",
       "    <tr>\n",
       "      <td>2</td>\n",
       "      <td>Minnie</td>\n",
       "      <td>minnie@example.com</td>\n",
       "    </tr>\n",
       "    <tr>\n",
       "      <td>3</td>\n",
       "      <td>Daffy</td>\n",
       "      <td>daffy@example.com</td>\n",
       "    </tr>\n",
       "    <tr>\n",
       "      <td>4</td>\n",
       "      <td>Pluto</td>\n",
       "      <td>pluto@example.com</td>\n",
       "    </tr>\n",
       "  </tbody>\n",
       "</table>"
      ],
      "text/plain": [
       "<IPython.core.display.HTML object>"
      ]
     },
     "metadata": {},
     "output_type": "display_data"
    },
    {
     "output_type": "display_data",
     "data": {
      "text/html": [
       "<b><font color=Green>Songs</font></b><table border=\"1\" class=\"dataframe\">\n",
       "  <thead>\n",
       "    <tr style=\"text-align: right;\">\n",
       "      <th>song_id</th>\n",
       "      <th>title</th>\n",
       "      <th>artist</th>\n",
       "      <th>genre</th>\n",
       "    </tr>\n",
       "  </thead>\n",
       "  <tbody>\n",
       "    <tr>\n",
       "      <td>1</td>\n",
       "      <td>Evermore</td>\n",
       "      <td>Taylor Swift</td>\n",
       "      <td>Pop</td>\n",
       "    </tr>\n",
       "    <tr>\n",
       "      <td>2</td>\n",
       "      <td>Willow</td>\n",
       "      <td>Taylor Swift</td>\n",
       "      <td>Pop</td>\n",
       "    </tr>\n",
       "    <tr>\n",
       "      <td>3</td>\n",
       "      <td>Shape of You</td>\n",
       "      <td>Ed Sheeran</td>\n",
       "      <td>Rock</td>\n",
       "    </tr>\n",
       "    <tr>\n",
       "      <td>4</td>\n",
       "      <td>Photograph</td>\n",
       "      <td>Ed Sheeran</td>\n",
       "      <td>Rock</td>\n",
       "    </tr>\n",
       "    <tr>\n",
       "      <td>5</td>\n",
       "      <td>Shivers</td>\n",
       "      <td>Ed Sheeran</td>\n",
       "      <td>Rock</td>\n",
       "    </tr>\n",
       "    <tr>\n",
       "      <td>6</td>\n",
       "      <td>Yesterday</td>\n",
       "      <td>Beatles</td>\n",
       "      <td>Classic</td>\n",
       "    </tr>\n",
       "    <tr>\n",
       "      <td>7</td>\n",
       "      <td>Yellow Submarine</td>\n",
       "      <td>Beatles</td>\n",
       "      <td>Classic</td>\n",
       "    </tr>\n",
       "    <tr>\n",
       "      <td>8</td>\n",
       "      <td>Hey Jude</td>\n",
       "      <td>Beatles</td>\n",
       "      <td>Classic</td>\n",
       "    </tr>\n",
       "    <tr>\n",
       "      <td>9</td>\n",
       "      <td>Bad Blood</td>\n",
       "      <td>Taylor Swift</td>\n",
       "      <td>Rock</td>\n",
       "    </tr>\n",
       "    <tr>\n",
       "      <td>10</td>\n",
       "      <td>DJ Mix</td>\n",
       "      <td>DJ</td>\n",
       "      <td>None</td>\n",
       "    </tr>\n",
       "  </tbody>\n",
       "</table>"
      ],
      "text/plain": [
       "<IPython.core.display.HTML object>"
      ]
     },
     "metadata": {},
     "output_type": "display_data"
    },
    {
     "output_type": "display_data",
     "data": {
      "text/html": [
       "<b><font color=Green>Listens</font></b><table border=\"1\" class=\"dataframe\">\n",
       "  <thead>\n",
       "    <tr style=\"text-align: right;\">\n",
       "      <th>listen_id</th>\n",
       "      <th>user_id</th>\n",
       "      <th>song_id</th>\n",
       "      <th>rating</th>\n",
       "      <th>listen_time</th>\n",
       "    </tr>\n",
       "  </thead>\n",
       "  <tbody>\n",
       "    <tr>\n",
       "      <td>1</td>\n",
       "      <td>1</td>\n",
       "      <td>1</td>\n",
       "      <td>4.5</td>\n",
       "      <td>2024-08-30 14:35:00</td>\n",
       "    </tr>\n",
       "    <tr>\n",
       "      <td>2</td>\n",
       "      <td>1</td>\n",
       "      <td>2</td>\n",
       "      <td>4.2</td>\n",
       "      <td>None</td>\n",
       "    </tr>\n",
       "    <tr>\n",
       "      <td>3</td>\n",
       "      <td>1</td>\n",
       "      <td>6</td>\n",
       "      <td>3.9</td>\n",
       "      <td>2024-08-29 10:15:00</td>\n",
       "    </tr>\n",
       "    <tr>\n",
       "      <td>4</td>\n",
       "      <td>2</td>\n",
       "      <td>2</td>\n",
       "      <td>4.7</td>\n",
       "      <td>None</td>\n",
       "    </tr>\n",
       "    <tr>\n",
       "      <td>5</td>\n",
       "      <td>2</td>\n",
       "      <td>7</td>\n",
       "      <td>4.6</td>\n",
       "      <td>2024-08-28 09:20:00</td>\n",
       "    </tr>\n",
       "    <tr>\n",
       "      <td>6</td>\n",
       "      <td>2</td>\n",
       "      <td>8</td>\n",
       "      <td>3.9</td>\n",
       "      <td>2024-08-27 16:45:00</td>\n",
       "    </tr>\n",
       "    <tr>\n",
       "      <td>7</td>\n",
       "      <td>3</td>\n",
       "      <td>1</td>\n",
       "      <td>2.9</td>\n",
       "      <td>None</td>\n",
       "    </tr>\n",
       "    <tr>\n",
       "      <td>8</td>\n",
       "      <td>3</td>\n",
       "      <td>2</td>\n",
       "      <td>4.9</td>\n",
       "      <td>2024-08-26 12:30:00</td>\n",
       "    </tr>\n",
       "    <tr>\n",
       "      <td>9</td>\n",
       "      <td>3</td>\n",
       "      <td>6</td>\n",
       "      <td>NaN</td>\n",
       "      <td>None</td>\n",
       "    </tr>\n",
       "  </tbody>\n",
       "</table>"
      ],
      "text/plain": [
       "<IPython.core.display.HTML object>"
      ]
     },
     "metadata": {},
     "output_type": "display_data"
    }
   ],
   "source": [
    "conn = sqlite3.connect(dbname)\n",
    "sqlite3.enable_callback_tracebacks(True)\n",
    "\n",
    "cursor=conn.cursor()\n",
    "cursor.execute(\"delete from Songs;\")\n",
    "cursor.execute(\"delete from Users;\")\n",
    "cursor.execute(\"delete from Listens;\")\n",
    "cursor.execute(\"delete from Recommendations;\")\n",
    "\n",
    "#Insert data into the table\n",
    "cursor.execute(\"\"\"\n",
    "  INSERT INTO Users (user_id, name, email)\n",
    "  VALUES\n",
    "    (1, 'Mickey', 'mickey@example.com'),\n",
    "    (2, 'Minnie', 'minnie@example.com'),\n",
    "    (3, 'Daffy', 'daffy@example.com'),\n",
    "    (4, 'Pluto', 'pluto@example.com');\n",
    "\"\"\")\n",
    "\n",
    "# Insert sample songs from Taylor Swift, Ed Sheeran, Beatles\n",
    "cursor.execute(\"\"\"\n",
    "INSERT INTO Songs (song_id, title, artist, genre)\n",
    "VALUES\n",
    "    (1, 'Evermore', 'Taylor Swift', 'Pop'),\n",
    "    (2, 'Willow', 'Taylor Swift', 'Pop'),\n",
    "    (3, 'Shape of You', 'Ed Sheeran', 'Rock'),\n",
    "    (4, 'Photograph', 'Ed Sheeran', 'Rock'),\n",
    "    (5, 'Shivers', 'Ed Sheeran', 'Rock'),\n",
    "    (6, 'Yesterday', 'Beatles', 'Classic'),\n",
    "    (7, 'Yellow Submarine', 'Beatles', 'Classic'),\n",
    "    (8, 'Hey Jude', 'Beatles', 'Classic'),\n",
    "    (9, 'Bad Blood', 'Taylor Swift', 'Rock'),\n",
    "    (10, 'DJ Mix', 'DJ', NULL);\n",
    "\"\"\")\n",
    "\n",
    "# Insert sample listens\n",
    "cursor.execute(\"\"\"\n",
    "INSERT INTO Listens (listen_id, user_id, song_id, rating, listen_time)\n",
    "VALUES\n",
    "    (1, 1, 1, 4.5, '2024-08-30 14:35:00'),\n",
    "    (2, 1, 2, 4.2, NULL),\n",
    "    (3, 1, 6, 3.9, '2024-08-29 10:15:00'),\n",
    "    (4, 2, 2, 4.7, NULL),\n",
    "    (5, 2, 7, 4.6, '2024-08-28 09:20:00'),\n",
    "    (6, 2, 8, 3.9, '2024-08-27 16:45:00'),\n",
    "    (7, 3, 1, 2.9, NULL),\n",
    "    (8, 3, 2, 4.9, '2024-08-26 12:30:00'),\n",
    "    (9, 3, 6, NULL, NULL);\n",
    "\"\"\")\n",
    "\n",
    "# Commit changes and close the connection\n",
    "conn.commit()\n",
    "conn.close()\n",
    "\n",
    "runSql('Users', \"select * from Users;\")\n",
    "runSql('Songs', \"select * from Songs;\")\n",
    "runSql('Listens', \"select * from Listens;\")"
   ]
  },
  {
   "cell_type": "code",
   "execution_count": 0,
   "metadata": {
    "application/vnd.databricks.v1+cell": {
     "cellMetadata": {
      "byteLimit": 2048000,
      "rowLimit": 10000
     },
     "inputWidgets": {},
     "nuid": "dbaa00f5-f689-4002-864a-ad96e52a49a1",
     "showTitle": false,
     "tableResultSettingsMap": {},
     "title": ""
    },
    "colab": {
     "base_uri": "https://localhost:8080/",
     "height": 161
    },
    "id": "XB-ive_HXK5v",
    "outputId": "9c5ea915-e574-4378-f351-c2f9a4660bdd"
   },
   "outputs": [
    {
     "output_type": "display_data",
     "data": {
      "text/html": [
       "<b><font color=Green>Classic Query</font></b><table border=\"1\" class=\"dataframe\">\n",
       "  <thead>\n",
       "    <tr style=\"text-align: right;\">\n",
       "      <th>title</th>\n",
       "      <th>artist</th>\n",
       "    </tr>\n",
       "  </thead>\n",
       "  <tbody>\n",
       "    <tr>\n",
       "      <td>Yesterday</td>\n",
       "      <td>Beatles</td>\n",
       "    </tr>\n",
       "    <tr>\n",
       "      <td>Yellow Submarine</td>\n",
       "      <td>Beatles</td>\n",
       "    </tr>\n",
       "    <tr>\n",
       "      <td>Hey Jude</td>\n",
       "      <td>Beatles</td>\n",
       "    </tr>\n",
       "  </tbody>\n",
       "</table>"
      ],
      "text/plain": [
       "<IPython.core.display.HTML object>"
      ]
     },
     "metadata": {},
     "output_type": "display_data"
    }
   ],
   "source": [
    "qry_classic_songs = \"\"\"\n",
    "SELECT Songs.title, Songs.artist FROM Songs\n",
    "WHERE Songs.genre= 'Classic';\n",
    "\"\"\"\n",
    "runSql('Classic Query', qry_classic_songs)"
   ]
  },
  {
   "cell_type": "code",
   "execution_count": 0,
   "metadata": {
    "application/vnd.databricks.v1+cell": {
     "cellMetadata": {
      "byteLimit": 2048000,
      "rowLimit": 10000
     },
     "inputWidgets": {},
     "nuid": "0b6ff954-acef-48ed-b124-03290399af1b",
     "showTitle": false,
     "tableResultSettingsMap": {},
     "title": ""
    },
    "colab": {
     "base_uri": "https://localhost:8080/",
     "height": 129
    },
    "id": "pO8Ok1MuX1XH",
    "outputId": "9bdc68c3-ea98-4217-98e0-393e77b41fd5"
   },
   "outputs": [
    {
     "output_type": "display_data",
     "data": {
      "text/html": [
       "<b><font color=Green>Classic Query with songs like Ye..</font></b><table border=\"1\" class=\"dataframe\">\n",
       "  <thead>\n",
       "    <tr style=\"text-align: right;\">\n",
       "      <th>title</th>\n",
       "      <th>artist</th>\n",
       "    </tr>\n",
       "  </thead>\n",
       "  <tbody>\n",
       "    <tr>\n",
       "      <td>Yesterday</td>\n",
       "      <td>Beatles</td>\n",
       "    </tr>\n",
       "    <tr>\n",
       "      <td>Yellow Submarine</td>\n",
       "      <td>Beatles</td>\n",
       "    </tr>\n",
       "  </tbody>\n",
       "</table>"
      ],
      "text/plain": [
       "<IPython.core.display.HTML object>"
      ]
     },
     "metadata": {},
     "output_type": "display_data"
    }
   ],
   "source": [
    "#Find titles and artists if songs in Classic Genre with titles starting like Ye...\n",
    "\n",
    "qry_classic_songs2 = \"\"\"\n",
    "SELECT Songs.title, Songs.artist FROM Songs\n",
    "WHERE Songs.genre= 'Classic' AND\n",
    "  Songs.title LIKE 'Ye%';\n",
    "\"\"\"\n",
    "runSql('Classic Query with songs like Ye..', qry_classic_songs2)"
   ]
  },
  {
   "cell_type": "code",
   "execution_count": 0,
   "metadata": {
    "application/vnd.databricks.v1+cell": {
     "cellMetadata": {
      "byteLimit": 2048000,
      "rowLimit": 10000
     },
     "inputWidgets": {},
     "nuid": "5375ca1f-6b50-4a10-b1d3-299ec839c224",
     "showTitle": false,
     "tableResultSettingsMap": {},
     "title": ""
    },
    "colab": {
     "base_uri": "https://localhost:8080/",
     "height": 380
    },
    "id": "4ba6XEMhYgPP",
    "outputId": "d7062934-a347-4ce6-92ae-55a915e73989"
   },
   "outputs": [
    {
     "output_type": "display_data",
     "data": {
      "text/html": [
       "<b><font color=Green>All genres</font></b><table border=\"1\" class=\"dataframe\">\n",
       "  <thead>\n",
       "    <tr style=\"text-align: right;\">\n",
       "      <th>genre</th>\n",
       "    </tr>\n",
       "  </thead>\n",
       "  <tbody>\n",
       "    <tr>\n",
       "      <td>Pop</td>\n",
       "    </tr>\n",
       "    <tr>\n",
       "      <td>Pop</td>\n",
       "    </tr>\n",
       "    <tr>\n",
       "      <td>Rock</td>\n",
       "    </tr>\n",
       "    <tr>\n",
       "      <td>Rock</td>\n",
       "    </tr>\n",
       "    <tr>\n",
       "      <td>Rock</td>\n",
       "    </tr>\n",
       "    <tr>\n",
       "      <td>Classic</td>\n",
       "    </tr>\n",
       "    <tr>\n",
       "      <td>Classic</td>\n",
       "    </tr>\n",
       "    <tr>\n",
       "      <td>Classic</td>\n",
       "    </tr>\n",
       "    <tr>\n",
       "      <td>Rock</td>\n",
       "    </tr>\n",
       "    <tr>\n",
       "      <td>None</td>\n",
       "    </tr>\n",
       "  </tbody>\n",
       "</table>"
      ],
      "text/plain": [
       "<IPython.core.display.HTML object>"
      ]
     },
     "metadata": {},
     "output_type": "display_data"
    }
   ],
   "source": [
    "#List all the genres in the Songs table\n",
    "qry_genres = \"\"\"\n",
    "SELECT genre from Songs;\n",
    "\"\"\"\n",
    "runSql('All genres', qry_genres)"
   ]
  },
  {
   "cell_type": "code",
   "execution_count": 0,
   "metadata": {
    "application/vnd.databricks.v1+cell": {
     "cellMetadata": {
      "byteLimit": 2048000,
      "rowLimit": 10000
     },
     "inputWidgets": {},
     "nuid": "6a40c3a2-6da3-4484-949b-94742b0c9098",
     "showTitle": false,
     "tableResultSettingsMap": {},
     "title": ""
    },
    "colab": {
     "base_uri": "https://localhost:8080/",
     "height": 192
    },
    "id": "FFirMlWqYzEg",
    "outputId": "35abe90a-92db-4245-98fa-7018777914d0"
   },
   "outputs": [
    {
     "output_type": "display_data",
     "data": {
      "text/html": [
       "<b><font color=Green>Distinct Genres</font></b><table border=\"1\" class=\"dataframe\">\n",
       "  <thead>\n",
       "    <tr style=\"text-align: right;\">\n",
       "      <th>genre</th>\n",
       "    </tr>\n",
       "  </thead>\n",
       "  <tbody>\n",
       "    <tr>\n",
       "      <td>Pop</td>\n",
       "    </tr>\n",
       "    <tr>\n",
       "      <td>Rock</td>\n",
       "    </tr>\n",
       "    <tr>\n",
       "      <td>Classic</td>\n",
       "    </tr>\n",
       "    <tr>\n",
       "      <td>None</td>\n",
       "    </tr>\n",
       "  </tbody>\n",
       "</table>"
      ],
      "text/plain": [
       "<IPython.core.display.HTML object>"
      ]
     },
     "metadata": {},
     "output_type": "display_data"
    }
   ],
   "source": [
    "#Find the unique genres from the Songs table\n",
    "\n",
    "qry_distinct = \"\"\"\n",
    "SELECT DISTINCT genre\n",
    "FROM Songs;\n",
    "\"\"\"\n",
    "\n",
    "runSql('Distinct Genres', qry_distinct)"
   ]
  },
  {
   "cell_type": "code",
   "execution_count": 0,
   "metadata": {
    "application/vnd.databricks.v1+cell": {
     "cellMetadata": {
      "byteLimit": 2048000,
      "rowLimit": 10000
     },
     "inputWidgets": {},
     "nuid": "bdb30d4a-5cd2-41ff-92ab-7192d7570169",
     "showTitle": false,
     "tableResultSettingsMap": {},
     "title": ""
    },
    "colab": {
     "base_uri": "https://localhost:8080/",
     "height": 129
    },
    "id": "AoxzZqg4ZLBR",
    "outputId": "88430f6f-0c6b-4e83-a89a-ca62ef413ae9"
   },
   "outputs": [
    {
     "output_type": "display_data",
     "data": {
      "text/html": [
       "<b><font color=Green>Count of songs by Taylor Swift in different genres</font></b><table border=\"1\" class=\"dataframe\">\n",
       "  <thead>\n",
       "    <tr style=\"text-align: right;\">\n",
       "      <th>artist</th>\n",
       "      <th>genre</th>\n",
       "      <th>num_songs</th>\n",
       "    </tr>\n",
       "  </thead>\n",
       "  <tbody>\n",
       "    <tr>\n",
       "      <td>Taylor Swift</td>\n",
       "      <td>Pop</td>\n",
       "      <td>2</td>\n",
       "    </tr>\n",
       "    <tr>\n",
       "      <td>Taylor Swift</td>\n",
       "      <td>Rock</td>\n",
       "      <td>1</td>\n",
       "    </tr>\n",
       "  </tbody>\n",
       "</table>"
      ],
      "text/plain": [
       "<IPython.core.display.HTML object>"
      ]
     },
     "metadata": {},
     "output_type": "display_data"
    }
   ],
   "source": [
    "#Find the number of songs by Taylor Swift in different genres\n",
    "\n",
    "qry_taylor_count=\"\"\"\n",
    "SELECT artist, genre,count(*) as num_songs\n",
    "FROM Songs\n",
    "WHERE Songs.artist='Taylor Swift'\n",
    "GROUP BY artist, genre;\n",
    "\"\"\"\n",
    "runSql('Count of songs by Taylor Swift in different genres', qry_taylor_count)"
   ]
  },
  {
   "cell_type": "code",
   "execution_count": 0,
   "metadata": {
    "application/vnd.databricks.v1+cell": {
     "cellMetadata": {
      "byteLimit": 2048000,
      "rowLimit": 10000
     },
     "inputWidgets": {},
     "nuid": "f3a4a166-3200-48bd-bb5a-51f1fafea1fc",
     "showTitle": false,
     "tableResultSettingsMap": {},
     "title": ""
    },
    "colab": {
     "base_uri": "https://localhost:8080/",
     "height": 224
    },
    "id": "2I0ryfrOaQQe",
    "outputId": "a8c195b6-a5c3-4f56-cd96-7a292a807983"
   },
   "outputs": [
    {
     "output_type": "display_data",
     "data": {
      "text/html": [
       "<b><font color=Green>Count of songs by Taylor Swift in different genres</font></b><table border=\"1\" class=\"dataframe\">\n",
       "  <thead>\n",
       "    <tr style=\"text-align: right;\">\n",
       "      <th>artist</th>\n",
       "      <th>genre</th>\n",
       "      <th>num_songs</th>\n",
       "    </tr>\n",
       "  </thead>\n",
       "  <tbody>\n",
       "    <tr>\n",
       "      <td>Beatles</td>\n",
       "      <td>Classic</td>\n",
       "      <td>3</td>\n",
       "    </tr>\n",
       "    <tr>\n",
       "      <td>DJ</td>\n",
       "      <td>None</td>\n",
       "      <td>1</td>\n",
       "    </tr>\n",
       "    <tr>\n",
       "      <td>Ed Sheeran</td>\n",
       "      <td>Rock</td>\n",
       "      <td>3</td>\n",
       "    </tr>\n",
       "    <tr>\n",
       "      <td>Taylor Swift</td>\n",
       "      <td>Pop</td>\n",
       "      <td>2</td>\n",
       "    </tr>\n",
       "    <tr>\n",
       "      <td>Taylor Swift</td>\n",
       "      <td>Rock</td>\n",
       "      <td>1</td>\n",
       "    </tr>\n",
       "  </tbody>\n",
       "</table>"
      ],
      "text/plain": [
       "<IPython.core.display.HTML object>"
      ]
     },
     "metadata": {},
     "output_type": "display_data"
    }
   ],
   "source": [
    "#Find the number of songs by all artists in different genres\n",
    "\n",
    "qry_artist_count=\"\"\"\n",
    "SELECT artist, genre,count(*) as num_songs\n",
    "FROM Songs\n",
    "GROUP BY artist, genre;\n",
    "\"\"\"\n",
    "runSql('Count of songs by Taylor Swift in different genres', qry_artist_count)\n"
   ]
  },
  {
   "cell_type": "code",
   "execution_count": 0,
   "metadata": {
    "application/vnd.databricks.v1+cell": {
     "cellMetadata": {
      "byteLimit": 2048000,
      "rowLimit": 10000
     },
     "inputWidgets": {},
     "nuid": "e028513f-e3dc-466b-a9c0-cb7bfe419299",
     "showTitle": false,
     "tableResultSettingsMap": {},
     "title": ""
    },
    "colab": {
     "base_uri": "https://localhost:8080/",
     "height": 506
    },
    "id": "JYtU1XpWarvh",
    "outputId": "c7882e14-5f3c-4de8-e4ac-2556b3390408"
   },
   "outputs": [
    {
     "output_type": "display_data",
     "data": {
      "text/html": [
       "<b><font color=Green>One Large Table</font></b><table border=\"1\" class=\"dataframe\">\n",
       "  <thead>\n",
       "    <tr style=\"text-align: right;\">\n",
       "      <th>song_id</th>\n",
       "      <th>title</th>\n",
       "      <th>artist</th>\n",
       "      <th>genre</th>\n",
       "      <th>listen_id</th>\n",
       "      <th>user_id</th>\n",
       "      <th>song_id</th>\n",
       "      <th>rating</th>\n",
       "      <th>listen_time</th>\n",
       "      <th>user_id</th>\n",
       "      <th>name</th>\n",
       "      <th>email</th>\n",
       "    </tr>\n",
       "  </thead>\n",
       "  <tbody>\n",
       "    <tr>\n",
       "      <td>1</td>\n",
       "      <td>Evermore</td>\n",
       "      <td>Taylor Swift</td>\n",
       "      <td>Pop</td>\n",
       "      <td>1.0</td>\n",
       "      <td>1.0</td>\n",
       "      <td>1.0</td>\n",
       "      <td>4.5</td>\n",
       "      <td>2024-08-30 14:35:00</td>\n",
       "      <td>1.0</td>\n",
       "      <td>Mickey</td>\n",
       "      <td>mickey@example.com</td>\n",
       "    </tr>\n",
       "    <tr>\n",
       "      <td>1</td>\n",
       "      <td>Evermore</td>\n",
       "      <td>Taylor Swift</td>\n",
       "      <td>Pop</td>\n",
       "      <td>7.0</td>\n",
       "      <td>3.0</td>\n",
       "      <td>1.0</td>\n",
       "      <td>2.9</td>\n",
       "      <td>None</td>\n",
       "      <td>3.0</td>\n",
       "      <td>Daffy</td>\n",
       "      <td>daffy@example.com</td>\n",
       "    </tr>\n",
       "    <tr>\n",
       "      <td>2</td>\n",
       "      <td>Willow</td>\n",
       "      <td>Taylor Swift</td>\n",
       "      <td>Pop</td>\n",
       "      <td>2.0</td>\n",
       "      <td>1.0</td>\n",
       "      <td>2.0</td>\n",
       "      <td>4.2</td>\n",
       "      <td>None</td>\n",
       "      <td>1.0</td>\n",
       "      <td>Mickey</td>\n",
       "      <td>mickey@example.com</td>\n",
       "    </tr>\n",
       "    <tr>\n",
       "      <td>2</td>\n",
       "      <td>Willow</td>\n",
       "      <td>Taylor Swift</td>\n",
       "      <td>Pop</td>\n",
       "      <td>4.0</td>\n",
       "      <td>2.0</td>\n",
       "      <td>2.0</td>\n",
       "      <td>4.7</td>\n",
       "      <td>None</td>\n",
       "      <td>2.0</td>\n",
       "      <td>Minnie</td>\n",
       "      <td>minnie@example.com</td>\n",
       "    </tr>\n",
       "    <tr>\n",
       "      <td>2</td>\n",
       "      <td>Willow</td>\n",
       "      <td>Taylor Swift</td>\n",
       "      <td>Pop</td>\n",
       "      <td>8.0</td>\n",
       "      <td>3.0</td>\n",
       "      <td>2.0</td>\n",
       "      <td>4.9</td>\n",
       "      <td>2024-08-26 12:30:00</td>\n",
       "      <td>3.0</td>\n",
       "      <td>Daffy</td>\n",
       "      <td>daffy@example.com</td>\n",
       "    </tr>\n",
       "    <tr>\n",
       "      <td>3</td>\n",
       "      <td>Shape of You</td>\n",
       "      <td>Ed Sheeran</td>\n",
       "      <td>Rock</td>\n",
       "      <td>NaN</td>\n",
       "      <td>NaN</td>\n",
       "      <td>NaN</td>\n",
       "      <td>NaN</td>\n",
       "      <td>None</td>\n",
       "      <td>NaN</td>\n",
       "      <td>None</td>\n",
       "      <td>None</td>\n",
       "    </tr>\n",
       "    <tr>\n",
       "      <td>4</td>\n",
       "      <td>Photograph</td>\n",
       "      <td>Ed Sheeran</td>\n",
       "      <td>Rock</td>\n",
       "      <td>NaN</td>\n",
       "      <td>NaN</td>\n",
       "      <td>NaN</td>\n",
       "      <td>NaN</td>\n",
       "      <td>None</td>\n",
       "      <td>NaN</td>\n",
       "      <td>None</td>\n",
       "      <td>None</td>\n",
       "    </tr>\n",
       "    <tr>\n",
       "      <td>5</td>\n",
       "      <td>Shivers</td>\n",
       "      <td>Ed Sheeran</td>\n",
       "      <td>Rock</td>\n",
       "      <td>NaN</td>\n",
       "      <td>NaN</td>\n",
       "      <td>NaN</td>\n",
       "      <td>NaN</td>\n",
       "      <td>None</td>\n",
       "      <td>NaN</td>\n",
       "      <td>None</td>\n",
       "      <td>None</td>\n",
       "    </tr>\n",
       "    <tr>\n",
       "      <td>6</td>\n",
       "      <td>Yesterday</td>\n",
       "      <td>Beatles</td>\n",
       "      <td>Classic</td>\n",
       "      <td>3.0</td>\n",
       "      <td>1.0</td>\n",
       "      <td>6.0</td>\n",
       "      <td>3.9</td>\n",
       "      <td>2024-08-29 10:15:00</td>\n",
       "      <td>1.0</td>\n",
       "      <td>Mickey</td>\n",
       "      <td>mickey@example.com</td>\n",
       "    </tr>\n",
       "    <tr>\n",
       "      <td>6</td>\n",
       "      <td>Yesterday</td>\n",
       "      <td>Beatles</td>\n",
       "      <td>Classic</td>\n",
       "      <td>9.0</td>\n",
       "      <td>3.0</td>\n",
       "      <td>6.0</td>\n",
       "      <td>NaN</td>\n",
       "      <td>None</td>\n",
       "      <td>3.0</td>\n",
       "      <td>Daffy</td>\n",
       "      <td>daffy@example.com</td>\n",
       "    </tr>\n",
       "    <tr>\n",
       "      <td>7</td>\n",
       "      <td>Yellow Submarine</td>\n",
       "      <td>Beatles</td>\n",
       "      <td>Classic</td>\n",
       "      <td>5.0</td>\n",
       "      <td>2.0</td>\n",
       "      <td>7.0</td>\n",
       "      <td>4.6</td>\n",
       "      <td>2024-08-28 09:20:00</td>\n",
       "      <td>2.0</td>\n",
       "      <td>Minnie</td>\n",
       "      <td>minnie@example.com</td>\n",
       "    </tr>\n",
       "    <tr>\n",
       "      <td>8</td>\n",
       "      <td>Hey Jude</td>\n",
       "      <td>Beatles</td>\n",
       "      <td>Classic</td>\n",
       "      <td>6.0</td>\n",
       "      <td>2.0</td>\n",
       "      <td>8.0</td>\n",
       "      <td>3.9</td>\n",
       "      <td>2024-08-27 16:45:00</td>\n",
       "      <td>2.0</td>\n",
       "      <td>Minnie</td>\n",
       "      <td>minnie@example.com</td>\n",
       "    </tr>\n",
       "    <tr>\n",
       "      <td>9</td>\n",
       "      <td>Bad Blood</td>\n",
       "      <td>Taylor Swift</td>\n",
       "      <td>Rock</td>\n",
       "      <td>NaN</td>\n",
       "      <td>NaN</td>\n",
       "      <td>NaN</td>\n",
       "      <td>NaN</td>\n",
       "      <td>None</td>\n",
       "      <td>NaN</td>\n",
       "      <td>None</td>\n",
       "      <td>None</td>\n",
       "    </tr>\n",
       "    <tr>\n",
       "      <td>10</td>\n",
       "      <td>DJ Mix</td>\n",
       "      <td>DJ</td>\n",
       "      <td>None</td>\n",
       "      <td>NaN</td>\n",
       "      <td>NaN</td>\n",
       "      <td>NaN</td>\n",
       "      <td>NaN</td>\n",
       "      <td>None</td>\n",
       "      <td>NaN</td>\n",
       "      <td>None</td>\n",
       "      <td>None</td>\n",
       "    </tr>\n",
       "  </tbody>\n",
       "</table>"
      ],
      "text/plain": [
       "<IPython.core.display.HTML object>"
      ]
     },
     "metadata": {},
     "output_type": "display_data"
    }
   ],
   "source": [
    "#Create one single table for songs and listens. Redundancies are allowed\n",
    "\n",
    "qry_large_table = \"\"\"\n",
    "SELECT * FROM Songs\n",
    "LEFT JOIN Listens ON Songs.song_id=Listens.song_id\n",
    "LEFT JOIN Users ON Listens.user_id=Users.user_id;\n",
    "\"\"\"\n",
    "runSql('One Large Table',qry_large_table)"
   ]
  },
  {
   "cell_type": "code",
   "execution_count": 0,
   "metadata": {
    "application/vnd.databricks.v1+cell": {
     "cellMetadata": {
      "byteLimit": 2048000,
      "rowLimit": 10000
     },
     "inputWidgets": {},
     "nuid": "a8f5389b-672f-47cb-a511-6b90f2a26034",
     "showTitle": false,
     "tableResultSettingsMap": {},
     "title": ""
    },
    "colab": {
     "base_uri": "https://localhost:8080/",
     "height": 336
    },
    "id": "KJUfbAzxcR8v",
    "outputId": "ef1b783c-5fdf-4b0d-ce66-1201a5ee4d29"
   },
   "outputs": [
    {
     "output_type": "display_data",
     "data": {
      "text/html": [
       "<b><font color=Green>Highly Rated Songs</font></b><table border=\"1\" class=\"dataframe\">\n",
       "  <thead>\n",
       "    <tr style=\"text-align: right;\">\n",
       "      <th>song_id</th>\n",
       "      <th>title</th>\n",
       "      <th>artist</th>\n",
       "      <th>rating</th>\n",
       "    </tr>\n",
       "  </thead>\n",
       "  <tbody>\n",
       "    <tr>\n",
       "      <td>2</td>\n",
       "      <td>Willow</td>\n",
       "      <td>Taylor Swift</td>\n",
       "      <td>4.7</td>\n",
       "    </tr>\n",
       "    <tr>\n",
       "      <td>2</td>\n",
       "      <td>Willow</td>\n",
       "      <td>Taylor Swift</td>\n",
       "      <td>4.9</td>\n",
       "    </tr>\n",
       "  </tbody>\n",
       "</table>"
      ],
      "text/plain": [
       "<IPython.core.display.HTML object>"
      ]
     },
     "metadata": {},
     "output_type": "display_data"
    },
    {
     "output_type": "display_data",
     "data": {
      "text/html": [
       "<b><font color=Green>Highly Rated Songs</font></b><table border=\"1\" class=\"dataframe\">\n",
       "  <thead>\n",
       "    <tr style=\"text-align: right;\">\n",
       "      <th>song_id</th>\n",
       "      <th>title</th>\n",
       "      <th>artist</th>\n",
       "      <th>AVG(Listens.rating)</th>\n",
       "    </tr>\n",
       "  </thead>\n",
       "  <tbody>\n",
       "    <tr>\n",
       "      <td>1</td>\n",
       "      <td>Evermore</td>\n",
       "      <td>Taylor Swift</td>\n",
       "      <td>3.7</td>\n",
       "    </tr>\n",
       "    <tr>\n",
       "      <td>2</td>\n",
       "      <td>Willow</td>\n",
       "      <td>Taylor Swift</td>\n",
       "      <td>4.6</td>\n",
       "    </tr>\n",
       "    <tr>\n",
       "      <td>6</td>\n",
       "      <td>Yesterday</td>\n",
       "      <td>Beatles</td>\n",
       "      <td>3.9</td>\n",
       "    </tr>\n",
       "    <tr>\n",
       "      <td>7</td>\n",
       "      <td>Yellow Submarine</td>\n",
       "      <td>Beatles</td>\n",
       "      <td>4.6</td>\n",
       "    </tr>\n",
       "    <tr>\n",
       "      <td>8</td>\n",
       "      <td>Hey Jude</td>\n",
       "      <td>Beatles</td>\n",
       "      <td>3.9</td>\n",
       "    </tr>\n",
       "  </tbody>\n",
       "</table>"
      ],
      "text/plain": [
       "<IPython.core.display.HTML object>"
      ]
     },
     "metadata": {},
     "output_type": "display_data"
    }
   ],
   "source": [
    "#Find the Highly Rates Songs. Consider Rating above 4.6 as highly rated\n",
    "\n",
    "qry_rating_songs=\"\"\"\n",
    "SELECT Songs.song_id, Songs.title, Songs.artist, Listens.rating\n",
    "FROM Songs\n",
    "JOIN Listens ON Songs.song_id = Listens.song_id\n",
    "WHERE Listens.rating > 4.6\n",
    "\"\"\"\n",
    "runSql('Highly Rated Songs',qry_rating_songs)\n",
    "\n",
    "#Find tha average rating of every song\n",
    "\n",
    "qry_avg_songs=\"\"\"\n",
    "SELECT Songs.song_id, Songs.title, Songs.artist, AVG(Listens.rating)\n",
    "FROM Songs\n",
    "JOIN Listens ON Songs.song_id = Listens.song_id\n",
    "GROUP BY Songs.song_id, Songs.title, Songs.artist\n",
    "\"\"\"\n",
    "runSql('Highly Rated Songs',qry_avg_songs)\n",
    "\n"
   ]
  },
  {
   "cell_type": "code",
   "execution_count": 0,
   "metadata": {
    "application/vnd.databricks.v1+cell": {
     "cellMetadata": {
      "byteLimit": 2048000,
      "rowLimit": 10000
     },
     "inputWidgets": {},
     "nuid": "f1424ab3-1974-4dc5-bc23-537f32d4d07f",
     "showTitle": false,
     "tableResultSettingsMap": {},
     "title": ""
    },
    "colab": {
     "base_uri": "https://localhost:8080/",
     "height": 224
    },
    "id": "kZ7do5Vid58S",
    "outputId": "c26ec70f-ccde-4db4-a412-fc439dee8ec3"
   },
   "outputs": [
    {
     "output_type": "display_data",
     "data": {
      "text/html": [
       "<b><font color=Green>Popular Songs</font></b><table border=\"1\" class=\"dataframe\">\n",
       "  <thead>\n",
       "    <tr style=\"text-align: right;\">\n",
       "      <th>song_id</th>\n",
       "      <th>title</th>\n",
       "      <th>artist</th>\n",
       "      <th>count(Listens.song_id)</th>\n",
       "    </tr>\n",
       "  </thead>\n",
       "  <tbody>\n",
       "    <tr>\n",
       "      <td>2</td>\n",
       "      <td>Willow</td>\n",
       "      <td>Taylor Swift</td>\n",
       "      <td>3</td>\n",
       "    </tr>\n",
       "    <tr>\n",
       "      <td>1</td>\n",
       "      <td>Evermore</td>\n",
       "      <td>Taylor Swift</td>\n",
       "      <td>2</td>\n",
       "    </tr>\n",
       "    <tr>\n",
       "      <td>6</td>\n",
       "      <td>Yesterday</td>\n",
       "      <td>Beatles</td>\n",
       "      <td>2</td>\n",
       "    </tr>\n",
       "    <tr>\n",
       "      <td>8</td>\n",
       "      <td>Hey Jude</td>\n",
       "      <td>Beatles</td>\n",
       "      <td>1</td>\n",
       "    </tr>\n",
       "    <tr>\n",
       "      <td>7</td>\n",
       "      <td>Yellow Submarine</td>\n",
       "      <td>Beatles</td>\n",
       "      <td>1</td>\n",
       "    </tr>\n",
       "  </tbody>\n",
       "</table>"
      ],
      "text/plain": [
       "<IPython.core.display.HTML object>"
      ]
     },
     "metadata": {},
     "output_type": "display_data"
    }
   ],
   "source": [
    "#Find the popular songs by counting the listens\n",
    "\n",
    "qry_pop_songs = \"\"\"\n",
    "SELECT Songs.song_id, Songs.title, Songs.artist, count(Listens.song_id)\n",
    "FROM Songs\n",
    "JOIN Listens\n",
    "ON Songs.song_id=Listens.song_id\n",
    "GROUP BY Songs.title, Songs.artist\n",
    "ORDER BY COUNT(Listens.song_id) DESC;\n",
    "\"\"\"\n",
    "\n",
    "runSql('Popular Songs', qry_pop_songs)"
   ]
  },
  {
   "cell_type": "code",
   "execution_count": 0,
   "metadata": {
    "application/vnd.databricks.v1+cell": {
     "cellMetadata": {
      "byteLimit": 2048000,
      "rowLimit": 10000
     },
     "inputWidgets": {},
     "nuid": "d95a8e2e-5dc4-4d43-bd47-8093a5a67328",
     "showTitle": false,
     "tableResultSettingsMap": {},
     "title": ""
    },
    "colab": {
     "base_uri": "https://localhost:8080/",
     "height": 493
    },
    "id": "XcnhWdXBfbvA",
    "outputId": "b40e8d03-5a88-4220-f16a-b9d4c5d11f68"
   },
   "outputs": [
    {
     "output_type": "display_data",
     "data": {
      "text/html": [
       "<b><font color=Green>Songs by Ed Sheeran and Taylor Swift</font></b><table border=\"1\" class=\"dataframe\">\n",
       "  <thead>\n",
       "    <tr style=\"text-align: right;\">\n",
       "      <th>title</th>\n",
       "      <th>artist</th>\n",
       "    </tr>\n",
       "  </thead>\n",
       "  <tbody>\n",
       "    <tr>\n",
       "      <td>Evermore</td>\n",
       "      <td>Taylor Swift</td>\n",
       "    </tr>\n",
       "    <tr>\n",
       "      <td>Willow</td>\n",
       "      <td>Taylor Swift</td>\n",
       "    </tr>\n",
       "    <tr>\n",
       "      <td>Shape of You</td>\n",
       "      <td>Ed Sheeran</td>\n",
       "    </tr>\n",
       "    <tr>\n",
       "      <td>Photograph</td>\n",
       "      <td>Ed Sheeran</td>\n",
       "    </tr>\n",
       "    <tr>\n",
       "      <td>Shivers</td>\n",
       "      <td>Ed Sheeran</td>\n",
       "    </tr>\n",
       "    <tr>\n",
       "      <td>Bad Blood</td>\n",
       "      <td>Taylor Swift</td>\n",
       "    </tr>\n",
       "  </tbody>\n",
       "</table>"
      ],
      "text/plain": [
       "<IPython.core.display.HTML object>"
      ]
     },
     "metadata": {},
     "output_type": "display_data"
    },
    {
     "output_type": "display_data",
     "data": {
      "text/html": [
       "<b><font color=Green>Songs on both Pop and Rock</font></b><table border=\"1\" class=\"dataframe\">\n",
       "  <thead>\n",
       "    <tr style=\"text-align: right;\">\n",
       "      <th>title</th>\n",
       "      <th>artist</th>\n",
       "    </tr>\n",
       "  </thead>\n",
       "  <tbody>\n",
       "    <tr>\n",
       "      <td>Bad Blood</td>\n",
       "      <td>Taylor Swift</td>\n",
       "    </tr>\n",
       "    <tr>\n",
       "      <td>Evermore</td>\n",
       "      <td>Taylor Swift</td>\n",
       "    </tr>\n",
       "    <tr>\n",
       "      <td>Photograph</td>\n",
       "      <td>Ed Sheeran</td>\n",
       "    </tr>\n",
       "    <tr>\n",
       "      <td>Shape of You</td>\n",
       "      <td>Ed Sheeran</td>\n",
       "    </tr>\n",
       "    <tr>\n",
       "      <td>Shivers</td>\n",
       "      <td>Ed Sheeran</td>\n",
       "    </tr>\n",
       "    <tr>\n",
       "      <td>Willow</td>\n",
       "      <td>Taylor Swift</td>\n",
       "    </tr>\n",
       "  </tbody>\n",
       "</table>"
      ],
      "text/plain": [
       "<IPython.core.display.HTML object>"
      ]
     },
     "metadata": {},
     "output_type": "display_data"
    }
   ],
   "source": [
    "#Find songs by Ed Sheeran and Taylor Swift\n",
    "\n",
    "qry_edtaylor=\"\"\"\n",
    "SELECT title, artist\n",
    "FROM Songs\n",
    "WHERE artist IN ('Ed Sheeran', 'Taylor Swift');\n",
    "\"\"\"\n",
    "runSql('Songs by Ed Sheeran and Taylor Swift', qry_edtaylor)\n",
    "\n",
    "#Find songs from both pop and rock genres\n",
    "\n",
    "qry_popandrock = \"\"\"\n",
    "SELECT title, artist\n",
    "FROM Songs\n",
    "WHERE genre='Pop'\n",
    "UNION\n",
    "SELECT title, artist\n",
    "FROM Songs\n",
    "WHERE genre='Rock'\n",
    "\"\"\"\n",
    "runSql('Songs on both Pop and Rock', qry_popandrock)\n"
   ]
  },
  {
   "cell_type": "code",
   "execution_count": 0,
   "metadata": {
    "application/vnd.databricks.v1+cell": {
     "cellMetadata": {
      "byteLimit": 2048000,
      "rowLimit": 10000
     },
     "inputWidgets": {},
     "nuid": "e7fe8faf-b22f-4d8c-880d-5257f2966f05",
     "showTitle": false,
     "tableResultSettingsMap": {},
     "title": ""
    },
    "colab": {
     "base_uri": "https://localhost:8080/",
     "height": 161
    },
    "id": "I9tVVcvAgsvQ",
    "outputId": "1ee2d714-e91e-49b2-9b9b-90c8da38c536"
   },
   "outputs": [
    {
     "output_type": "display_data",
     "data": {
      "text/html": [
       "<b><font color=Green>Songs listened by user_id=1</font></b><table border=\"1\" class=\"dataframe\">\n",
       "  <thead>\n",
       "    <tr style=\"text-align: right;\">\n",
       "      <th>title</th>\n",
       "      <th>artist</th>\n",
       "    </tr>\n",
       "  </thead>\n",
       "  <tbody>\n",
       "    <tr>\n",
       "      <td>Evermore</td>\n",
       "      <td>Taylor Swift</td>\n",
       "    </tr>\n",
       "    <tr>\n",
       "      <td>Willow</td>\n",
       "      <td>Taylor Swift</td>\n",
       "    </tr>\n",
       "    <tr>\n",
       "      <td>Yesterday</td>\n",
       "      <td>Beatles</td>\n",
       "    </tr>\n",
       "  </tbody>\n",
       "</table>"
      ],
      "text/plain": [
       "<IPython.core.display.HTML object>"
      ]
     },
     "metadata": {},
     "output_type": "display_data"
    }
   ],
   "source": [
    "#Find songs listened to by user_id 1\n",
    "\n",
    "qry_listen_usr=\"\"\"\n",
    "SELECT title, artist\n",
    "FROM Songs\n",
    "WHERE song_id IN (SELECT song_id FROM Listens WHERE Listens.listen_time IS NULL);\n",
    "\"\"\"\n",
    "runSql('Songs listened by user_id=1',qry_listen_usr)"
   ]
  },
  {
   "cell_type": "code",
   "execution_count": 0,
   "metadata": {
    "application/vnd.databricks.v1+cell": {
     "cellMetadata": {
      "byteLimit": 2048000,
      "rowLimit": 10000
     },
     "inputWidgets": {},
     "nuid": "8ca9d049-779c-4a5e-bf21-13b0eef14fba",
     "showTitle": false,
     "tableResultSettingsMap": {},
     "title": ""
    },
    "colab": {
     "base_uri": "https://localhost:8080/",
     "height": 129
    },
    "id": "vudHinsaiRoD",
    "outputId": "0e84b8e2-7295-47e6-c142-452e3883e4ba"
   },
   "outputs": [
    {
     "output_type": "display_data",
     "data": {
      "text/html": [
       "<b><font color=Green>Songs shared</font></b><table border=\"1\" class=\"dataframe\">\n",
       "  <thead>\n",
       "    <tr style=\"text-align: right;\">\n",
       "      <th>user_id</th>\n",
       "      <th>song_id</th>\n",
       "    </tr>\n",
       "  </thead>\n",
       "  <tbody>\n",
       "    <tr>\n",
       "      <td>2</td>\n",
       "      <td>1</td>\n",
       "    </tr>\n",
       "    <tr>\n",
       "      <td>2</td>\n",
       "      <td>6</td>\n",
       "    </tr>\n",
       "  </tbody>\n",
       "</table>"
      ],
      "text/plain": [
       "<IPython.core.display.HTML object>"
      ]
     },
     "metadata": {},
     "output_type": "display_data"
    }
   ],
   "source": [
    "#Computing the recommendations\n",
    "#Find the song pairs which are shared across > 1 user\n",
    "\n",
    "qry_sharing=\"\"\"\n",
    "WITH song_similarity AS (\n",
    "SELECT u1.song_id as song1, u2.song_id as song2, COUNT(*) AS common_users\n",
    "FROM LISTENS u1\n",
    "JOIN LISTENS u2\n",
    "ON u1.user_id=u2.user_id\n",
    "AND u1.song_id != u2.song_id\n",
    "GROUP BY u1.song_id, u2.song_id\n",
    "HAVING COUNT(*)>1\n",
    "),\n",
    "\n",
    "recs AS (\n",
    "  SELECT user_id, song2 as song_id\n",
    "  FROM song_similarity\n",
    "  JOIN Listens as L\n",
    "  ON L.song_id = song_similarity.song1\n",
    "  WHERE song_similarity.song2 NOT IN\n",
    "  (SELECT song_id FROM Listens as temp where temp.user_id=L.user_id)\n",
    ")\n",
    "select * from recs;\n",
    "\"\"\"\n",
    "runSql('Songs shared', qry_sharing)"
   ]
  },
  {
   "cell_type": "code",
   "execution_count": 0,
   "metadata": {
    "application/vnd.databricks.v1+cell": {
     "cellMetadata": {
      "byteLimit": 2048000,
      "rowLimit": 10000
     },
     "inputWidgets": {},
     "nuid": "1ab63946-0ea3-4099-996d-25c3d7b11fe3",
     "showTitle": false,
     "tableResultSettingsMap": {},
     "title": ""
    },
    "colab": {
     "base_uri": "https://localhost:8080/",
     "height": 108
    },
    "id": "kfNk7E21S5c2",
    "outputId": "f51e84ef-a235-4963-88c4-c4262abcc1de"
   },
   "outputs": [],
   "source": [
    "#ASSIGNMENT-1. To be submitted as a PDF with queries and screenshots.\n",
    "\n",
    "#1 Insert the above into the recommendations table\n",
    "#2 Generate the recommendaions for Minnie\n",
    "\n",
    "#3 Re-do the generation of recommendations now on the basis of listen time\n",
    "#4 Generate new recommendations\n",
    "\n",
    "#5 What are the differences with the static method on #2 above"
   ]
  },
  {
   "cell_type": "code",
   "execution_count": 0,
   "metadata": {
    "application/vnd.databricks.v1+cell": {
     "cellMetadata": {
      "byteLimit": 2048000,
      "implicitDf": true,
      "rowLimit": 10000
     },
     "inputWidgets": {},
     "nuid": "d26ceeb2-09a3-4bc9-98fc-2d7814bc73f5",
     "showTitle": true,
     "tableResultSettingsMap": {},
     "title": "Q1: Insert the recommendations into the recommendations table"
    }
   },
   "outputs": [
    {
     "output_type": "display_data",
     "data": {
      "text/html": [
       "<b><font color=Green>Recommendations Table after insertion</font></b><table border=\"1\" class=\"dataframe\">\n",
       "  <thead>\n",
       "    <tr style=\"text-align: right;\">\n",
       "      <th>recommendation_id</th>\n",
       "      <th>recommendation_time</th>\n",
       "      <th>user_id</th>\n",
       "      <th>song_id</th>\n",
       "    </tr>\n",
       "  </thead>\n",
       "  <tbody>\n",
       "    <tr>\n",
       "      <td>1</td>\n",
       "      <td>2025-09-21 10:18:54</td>\n",
       "      <td>2</td>\n",
       "      <td>1</td>\n",
       "    </tr>\n",
       "    <tr>\n",
       "      <td>2</td>\n",
       "      <td>2025-09-21 10:18:54</td>\n",
       "      <td>2</td>\n",
       "      <td>6</td>\n",
       "    </tr>\n",
       "  </tbody>\n",
       "</table>"
      ],
      "text/plain": [
       "<IPython.core.display.HTML object>"
      ]
     },
     "metadata": {},
     "output_type": "display_data"
    }
   ],
   "source": [
    "conn = sqlite3.connect(dbname)\n",
    "cursor = conn.cursor()\n",
    "\n",
    "# First, let's see what recommendations we have from the previous query\n",
    "\n",
    "cursor.execute(\"\"\"\n",
    "WITH song_similarity AS (\n",
    "    SELECT u1.song_id as song1, u2.song_id as song2, COUNT(*) AS common_users\n",
    "    FROM LISTENS u1\n",
    "    JOIN LISTENS u2\n",
    "    ON u1.user_id=u2.user_id\n",
    "    AND u1.song_id != u2.song_id\n",
    "    GROUP BY u1.song_id, u2.song_id\n",
    "    HAVING COUNT(*)>1\n",
    "),\n",
    "recs AS (\n",
    "    SELECT user_id, song2 as song_id, datetime('now') as rec_time\n",
    "    FROM song_similarity\n",
    "    JOIN Listens as L\n",
    "    ON L.song_id = song_similarity.song1\n",
    "    WHERE song_similarity.song2 NOT IN\n",
    "    (SELECT song_id FROM Listens as temp where temp.user_id=L.user_id)\n",
    ")\n",
    "INSERT INTO Recommendations (recommendation_id, recommendation_time, user_id, song_id)\n",
    "SELECT ROW_NUMBER() OVER (ORDER BY user_id, song_id), rec_time, user_id, song_id\n",
    "FROM recs;\n",
    "\"\"\")\n",
    "\n",
    "conn.commit()\n",
    "runSql('Recommendations Table after insertion', \"SELECT * FROM Recommendations;\")\n",
    "conn.close()"
   ]
  },
  {
   "cell_type": "code",
   "execution_count": 0,
   "metadata": {
    "application/vnd.databricks.v1+cell": {
     "cellMetadata": {
      "byteLimit": 2048000,
      "rowLimit": 10000
     },
     "inputWidgets": {},
     "nuid": "39a0070c-13f5-4701-86d2-97ef4ef047ea",
     "showTitle": true,
     "tableResultSettingsMap": {},
     "title": "Q2: Generate the recommendations for Minnie"
    }
   },
   "outputs": [
    {
     "output_type": "display_data",
     "data": {
      "text/html": [
       "<b><font color=Green>Recommendations for Minnie</font></b><table border=\"1\" class=\"dataframe\">\n",
       "  <thead>\n",
       "    <tr style=\"text-align: right;\">\n",
       "      <th>recommendation_id</th>\n",
       "      <th>title</th>\n",
       "      <th>artist</th>\n",
       "      <th>genre</th>\n",
       "      <th>recommendation_time</th>\n",
       "    </tr>\n",
       "  </thead>\n",
       "  <tbody>\n",
       "    <tr>\n",
       "      <td>1</td>\n",
       "      <td>Evermore</td>\n",
       "      <td>Taylor Swift</td>\n",
       "      <td>Pop</td>\n",
       "      <td>2025-09-21 10:18:54</td>\n",
       "    </tr>\n",
       "    <tr>\n",
       "      <td>2</td>\n",
       "      <td>Yesterday</td>\n",
       "      <td>Beatles</td>\n",
       "      <td>Classic</td>\n",
       "      <td>2025-09-21 10:18:54</td>\n",
       "    </tr>\n",
       "  </tbody>\n",
       "</table>"
      ],
      "text/plain": [
       "<IPython.core.display.HTML object>"
      ]
     },
     "metadata": {},
     "output_type": "display_data"
    }
   ],
   "source": [
    "qry_minnie_recs = \"\"\"\n",
    "SELECT r.recommendation_id, s.title, s.artist, s.genre, r.recommendation_time\n",
    "FROM Recommendations r\n",
    "JOIN Songs s ON r.song_id = s.song_id\n",
    "JOIN Users u ON r.user_id = u.user_id\n",
    "WHERE u.name = 'Minnie'\n",
    "ORDER BY r.recommendation_time DESC;\n",
    "\"\"\"\n",
    "\n",
    "runSql('Recommendations for Minnie', qry_minnie_recs)"
   ]
  },
  {
   "cell_type": "code",
   "execution_count": 0,
   "metadata": {
    "application/vnd.databricks.v1+cell": {
     "cellMetadata": {
      "byteLimit": 2048000,
      "rowLimit": 10000
     },
     "inputWidgets": {},
     "nuid": "b16990aa-2d08-4206-a04b-9c3422e67027",
     "showTitle": true,
     "tableResultSettingsMap": {},
     "title": "Q3: Re-do the generation of recommendations based on listen time (recent listens get more weight)"
    }
   },
   "outputs": [
    {
     "output_type": "display_data",
     "data": {
      "text/html": [
       "<b><font color=Green>Actual timestamp format in Listens</font></b><table border=\"1\" class=\"dataframe\">\n",
       "  <thead>\n",
       "    <tr style=\"text-align: right;\">\n",
       "      <th>listen_id</th>\n",
       "      <th>user_id</th>\n",
       "      <th>song_id</th>\n",
       "      <th>rating</th>\n",
       "      <th>listen_time</th>\n",
       "      <th>time_type</th>\n",
       "    </tr>\n",
       "  </thead>\n",
       "  <tbody>\n",
       "    <tr>\n",
       "      <td>1</td>\n",
       "      <td>1</td>\n",
       "      <td>1</td>\n",
       "      <td>4.5</td>\n",
       "      <td>2024-08-30 14:35:00</td>\n",
       "      <td>text</td>\n",
       "    </tr>\n",
       "    <tr>\n",
       "      <td>3</td>\n",
       "      <td>1</td>\n",
       "      <td>6</td>\n",
       "      <td>3.9</td>\n",
       "      <td>2024-08-29 10:15:00</td>\n",
       "      <td>text</td>\n",
       "    </tr>\n",
       "    <tr>\n",
       "      <td>5</td>\n",
       "      <td>2</td>\n",
       "      <td>7</td>\n",
       "      <td>4.6</td>\n",
       "      <td>2024-08-28 09:20:00</td>\n",
       "      <td>text</td>\n",
       "    </tr>\n",
       "    <tr>\n",
       "      <td>6</td>\n",
       "      <td>2</td>\n",
       "      <td>8</td>\n",
       "      <td>3.9</td>\n",
       "      <td>2024-08-27 16:45:00</td>\n",
       "      <td>text</td>\n",
       "    </tr>\n",
       "    <tr>\n",
       "      <td>8</td>\n",
       "      <td>3</td>\n",
       "      <td>2</td>\n",
       "      <td>4.9</td>\n",
       "      <td>2024-08-26 12:30:00</td>\n",
       "      <td>text</td>\n",
       "    </tr>\n",
       "    <tr>\n",
       "      <td>2</td>\n",
       "      <td>1</td>\n",
       "      <td>2</td>\n",
       "      <td>4.2</td>\n",
       "      <td>None</td>\n",
       "      <td>null</td>\n",
       "    </tr>\n",
       "    <tr>\n",
       "      <td>4</td>\n",
       "      <td>2</td>\n",
       "      <td>2</td>\n",
       "      <td>4.7</td>\n",
       "      <td>None</td>\n",
       "      <td>null</td>\n",
       "    </tr>\n",
       "    <tr>\n",
       "      <td>7</td>\n",
       "      <td>3</td>\n",
       "      <td>1</td>\n",
       "      <td>2.9</td>\n",
       "      <td>None</td>\n",
       "      <td>null</td>\n",
       "    </tr>\n",
       "    <tr>\n",
       "      <td>9</td>\n",
       "      <td>3</td>\n",
       "      <td>6</td>\n",
       "      <td>NaN</td>\n",
       "      <td>None</td>\n",
       "      <td>null</td>\n",
       "    </tr>\n",
       "  </tbody>\n",
       "</table>"
      ],
      "text/plain": [
       "<IPython.core.display.HTML object>"
      ]
     },
     "metadata": {},
     "output_type": "display_data"
    },
    {
     "output_type": "display_data",
     "data": {
      "text/html": [
       "<b><font color=Green>Total Recommendations Generated</font></b><table border=\"1\" class=\"dataframe\">\n",
       "  <thead>\n",
       "    <tr style=\"text-align: right;\">\n",
       "      <th>total_recommendations</th>\n",
       "    </tr>\n",
       "  </thead>\n",
       "  <tbody>\n",
       "    <tr>\n",
       "      <td>6</td>\n",
       "    </tr>\n",
       "  </tbody>\n",
       "</table>"
      ],
      "text/plain": [
       "<IPython.core.display.HTML object>"
      ]
     },
     "metadata": {},
     "output_type": "display_data"
    },
    {
     "output_type": "display_data",
     "data": {
      "text/html": [
       "<b><font color=Green>All Recommendations</font></b><table border=\"1\" class=\"dataframe\">\n",
       "  <thead>\n",
       "    <tr style=\"text-align: right;\">\n",
       "      <th>recommendation_id</th>\n",
       "      <th>recommendation_time</th>\n",
       "      <th>user_id</th>\n",
       "      <th>user_name</th>\n",
       "      <th>song_id</th>\n",
       "      <th>title</th>\n",
       "      <th>artist</th>\n",
       "    </tr>\n",
       "  </thead>\n",
       "  <tbody>\n",
       "    <tr>\n",
       "      <td>5</td>\n",
       "      <td>2025-09-22 13:54:22</td>\n",
       "      <td>3</td>\n",
       "      <td>Daffy</td>\n",
       "      <td>7</td>\n",
       "      <td>Yellow Submarine</td>\n",
       "      <td>Beatles</td>\n",
       "    </tr>\n",
       "    <tr>\n",
       "      <td>6</td>\n",
       "      <td>2025-09-22 13:54:22</td>\n",
       "      <td>3</td>\n",
       "      <td>Daffy</td>\n",
       "      <td>8</td>\n",
       "      <td>Hey Jude</td>\n",
       "      <td>Beatles</td>\n",
       "    </tr>\n",
       "    <tr>\n",
       "      <td>3</td>\n",
       "      <td>2025-09-22 13:54:22</td>\n",
       "      <td>1</td>\n",
       "      <td>Mickey</td>\n",
       "      <td>7</td>\n",
       "      <td>Yellow Submarine</td>\n",
       "      <td>Beatles</td>\n",
       "    </tr>\n",
       "    <tr>\n",
       "      <td>4</td>\n",
       "      <td>2025-09-22 13:54:22</td>\n",
       "      <td>1</td>\n",
       "      <td>Mickey</td>\n",
       "      <td>8</td>\n",
       "      <td>Hey Jude</td>\n",
       "      <td>Beatles</td>\n",
       "    </tr>\n",
       "    <tr>\n",
       "      <td>1</td>\n",
       "      <td>2025-09-22 13:54:22</td>\n",
       "      <td>2</td>\n",
       "      <td>Minnie</td>\n",
       "      <td>1</td>\n",
       "      <td>Evermore</td>\n",
       "      <td>Taylor Swift</td>\n",
       "    </tr>\n",
       "    <tr>\n",
       "      <td>2</td>\n",
       "      <td>2025-09-22 13:54:22</td>\n",
       "      <td>2</td>\n",
       "      <td>Minnie</td>\n",
       "      <td>6</td>\n",
       "      <td>Yesterday</td>\n",
       "      <td>Beatles</td>\n",
       "    </tr>\n",
       "  </tbody>\n",
       "</table>"
      ],
      "text/plain": [
       "<IPython.core.display.HTML object>"
      ]
     },
     "metadata": {},
     "output_type": "display_data"
    }
   ],
   "source": [
    "# 3. Simplified time-based recommendations that will actually work\n",
    "conn = sqlite3.connect(dbname)\n",
    "cursor = conn.cursor()\n",
    "\n",
    "# Clear existing recommendations\n",
    "cursor.execute(\"DELETE FROM Recommendations;\")\n",
    "\n",
    "# Debug: Check the actual timestamp format in your data\n",
    "runSql('Actual timestamp format in Listens', \"\"\"\n",
    "SELECT listen_id, user_id, song_id, rating, listen_time,\n",
    "       typeof(listen_time) as time_type\n",
    "FROM Listens \n",
    "ORDER BY listen_time DESC NULLS LAST\n",
    "LIMIT 10;\n",
    "\"\"\")\n",
    "\n",
    "# Simple time-based approach: recommend songs from users with similar listening history\n",
    "cursor.execute(\"\"\"\n",
    "-- Step 1: Find users who listen to similar songs\n",
    "WITH user_similarity AS (\n",
    "    SELECT l1.user_id as user1, l2.user_id as user2,\n",
    "           COUNT(DISTINCT l1.song_id) as common_songs\n",
    "    FROM Listens l1\n",
    "    JOIN Listens l2 ON l1.song_id = l2.song_id\n",
    "    WHERE l1.user_id != l2.user_id\n",
    "    GROUP BY l1.user_id, l2.user_id\n",
    "    HAVING common_songs >= 1\n",
    "),\n",
    "\n",
    "-- Step 2: Get songs from similar users that the target user hasn't heard\n",
    "user_recommendations AS (\n",
    "    SELECT us.user1 as target_user, l.song_id,\n",
    "           COUNT(*) as recommendation_strength,\n",
    "           datetime('now') as rec_time\n",
    "    FROM user_similarity us\n",
    "    JOIN Listens l ON us.user2 = l.user_id\n",
    "    WHERE l.song_id NOT IN (\n",
    "        SELECT song_id FROM Listens WHERE user_id = us.user1\n",
    "    )\n",
    "    GROUP BY us.user1, l.song_id\n",
    "    HAVING COUNT(*) >= 1\n",
    ")\n",
    "\n",
    "-- Step 3: Insert into Recommendations table\n",
    "INSERT INTO Recommendations (recommendation_id, recommendation_time, user_id, song_id)\n",
    "SELECT \n",
    "    ROW_NUMBER() OVER (ORDER BY recommendation_strength DESC, target_user),\n",
    "    rec_time,\n",
    "    target_user,\n",
    "    song_id\n",
    "FROM user_recommendations;\n",
    "\"\"\")\n",
    "\n",
    "conn.commit()\n",
    "\n",
    "# Check results\n",
    "runSql('Total Recommendations Generated', \"SELECT COUNT(*) as total_recommendations FROM Recommendations;\")\n",
    "runSql('All Recommendations', \"\"\"\n",
    "SELECT r.recommendation_id, r.recommendation_time, \n",
    "       u.user_id, u.name as user_name,\n",
    "       s.song_id, s.title, s.artist\n",
    "FROM Recommendations r\n",
    "JOIN Users u ON r.user_id = u.user_id\n",
    "JOIN Songs s ON r.song_id = s.song_id\n",
    "ORDER BY r.recommendation_time DESC, u.name;\n",
    "\"\"\")\n",
    "conn.close()"
   ]
  },
  {
   "cell_type": "code",
   "execution_count": 0,
   "metadata": {
    "application/vnd.databricks.v1+cell": {
     "cellMetadata": {
      "byteLimit": 2048000,
      "rowLimit": 10000
     },
     "inputWidgets": {},
     "nuid": "071c4aab-d2d6-47f7-a756-24f7dc0f00bf",
     "showTitle": true,
     "tableResultSettingsMap": {},
     "title": "Q4: Generate new recommendations for Minnie with time-based approach"
    }
   },
   "outputs": [
    {
     "output_type": "display_data",
     "data": {
      "text/html": [
       "<b><font color=Green>Time-based Recommendations for Minnie</font></b><table border=\"1\" class=\"dataframe\">\n",
       "  <thead>\n",
       "    <tr style=\"text-align: right;\">\n",
       "      <th>recommendation_id</th>\n",
       "      <th>title</th>\n",
       "      <th>artist</th>\n",
       "      <th>genre</th>\n",
       "      <th>recommendation_time</th>\n",
       "      <th>user_name</th>\n",
       "    </tr>\n",
       "  </thead>\n",
       "  <tbody>\n",
       "    <tr>\n",
       "      <td>1</td>\n",
       "      <td>Evermore</td>\n",
       "      <td>Taylor Swift</td>\n",
       "      <td>Pop</td>\n",
       "      <td>2025-09-21 10:46:06</td>\n",
       "      <td>Minnie</td>\n",
       "    </tr>\n",
       "    <tr>\n",
       "      <td>2</td>\n",
       "      <td>Yesterday</td>\n",
       "      <td>Beatles</td>\n",
       "      <td>Classic</td>\n",
       "      <td>2025-09-21 10:46:06</td>\n",
       "      <td>Minnie</td>\n",
       "    </tr>\n",
       "  </tbody>\n",
       "</table>"
      ],
      "text/plain": [
       "<IPython.core.display.HTML object>"
      ]
     },
     "metadata": {},
     "output_type": "display_data"
    }
   ],
   "source": [
    "qry_minnie_time_recs = \"\"\"\n",
    "SELECT r.recommendation_id, s.title, s.artist, s.genre, \n",
    "       r.recommendation_time, u.name as user_name\n",
    "FROM Recommendations r\n",
    "JOIN Songs s ON r.song_id = s.song_id\n",
    "JOIN Users u ON r.user_id = u.user_id\n",
    "WHERE u.name = 'Minnie'\n",
    "ORDER BY r.recommendation_time DESC;\n",
    "\"\"\"\n",
    "\n",
    "runSql('Time-based Recommendations for Minnie', qry_minnie_time_recs)"
   ]
  },
  {
   "cell_type": "code",
   "execution_count": 0,
   "metadata": {
    "application/vnd.databricks.v1+cell": {
     "cellMetadata": {
      "byteLimit": 2048000,
      "rowLimit": 10000
     },
     "inputWidgets": {},
     "nuid": "e3788b0b-91c4-4fff-bdf6-095f0e66bc88",
     "showTitle": true,
     "tableResultSettingsMap": {},
     "title": "Q5: Compare the differences between static and time-based methods"
    }
   },
   "outputs": [
    {
     "output_type": "display_data",
     "data": {
      "text/html": [
       "<b><font color=Green>Corrected Comparison: Static vs Time-based for Minnie</font></b><table border=\"1\" class=\"dataframe\">\n",
       "  <thead>\n",
       "    <tr style=\"text-align: right;\">\n",
       "      <th>method</th>\n",
       "      <th>song_id</th>\n",
       "      <th>title</th>\n",
       "      <th>artist</th>\n",
       "    </tr>\n",
       "  </thead>\n",
       "  <tbody>\n",
       "    <tr>\n",
       "      <td>Static</td>\n",
       "      <td>1</td>\n",
       "      <td>Evermore</td>\n",
       "      <td>Taylor Swift</td>\n",
       "    </tr>\n",
       "    <tr>\n",
       "      <td>Static</td>\n",
       "      <td>6</td>\n",
       "      <td>Yesterday</td>\n",
       "      <td>Beatles</td>\n",
       "    </tr>\n",
       "    <tr>\n",
       "      <td>Time-based</td>\n",
       "      <td>1</td>\n",
       "      <td>Evermore</td>\n",
       "      <td>Taylor Swift</td>\n",
       "    </tr>\n",
       "    <tr>\n",
       "      <td>Time-based</td>\n",
       "      <td>6</td>\n",
       "      <td>Yesterday</td>\n",
       "      <td>Beatles</td>\n",
       "    </tr>\n",
       "  </tbody>\n",
       "</table>"
      ],
      "text/plain": [
       "<IPython.core.display.HTML object>"
      ]
     },
     "metadata": {},
     "output_type": "display_data"
    }
   ],
   "source": [
    "\n",
    "qry_comparison = \"\"\"\n",
    "-- Create temporary static recommendations for comparison\n",
    "WITH static_recommendations AS (\n",
    "    WITH song_similarity AS (\n",
    "        SELECT u1.song_id as song1, u2.song_id as song2, COUNT(*) AS common_users\n",
    "        FROM LISTENS u1\n",
    "        JOIN LISTENS u2 ON u1.user_id = u2.user_id AND u1.song_id != u2.song_id\n",
    "        GROUP BY u1.song_id, u2.song_id\n",
    "        HAVING COUNT(*) > 0\n",
    "    ),\n",
    "    static_recs AS (\n",
    "        SELECT DISTINCT L.user_id, song_similarity.song2 as song_id, 'Static' as method\n",
    "        FROM song_similarity\n",
    "        JOIN Listens as L ON L.song_id = song_similarity.song1\n",
    "        WHERE song_similarity.song2 NOT IN (\n",
    "            SELECT song_id FROM Listens as temp WHERE temp.user_id = L.user_id\n",
    "        )\n",
    "    )\n",
    "    SELECT sr.user_id, sr.song_id, sr.method, s.title, s.artist\n",
    "    FROM static_recs sr\n",
    "    JOIN Songs s ON sr.song_id = s.song_id\n",
    "    WHERE sr.user_id = 2  -- Minnie's user_id\n",
    "),\n",
    "\n",
    "time_based_recommendations AS (\n",
    "    SELECT r.user_id, r.song_id, 'Time-based' as method, s.title, s.artist\n",
    "    FROM Recommendations r\n",
    "    JOIN Songs s ON r.song_id = s.song_id\n",
    "    WHERE r.user_id = 2  -- Minnie's user_id\n",
    ")\n",
    "\n",
    "-- Combine both methods\n",
    "SELECT method, song_id, title, artist FROM static_recommendations\n",
    "UNION ALL\n",
    "SELECT method, song_id, title, artist FROM time_based_recommendations\n",
    "ORDER BY method, title;\n",
    "\"\"\"\n",
    "\n",
    "runSql(\"Corrected Comparison: Static vs Time-based for Minnie\", qry_comparison)"
   ]
  },
  {
   "cell_type": "markdown",
   "metadata": {
    "application/vnd.databricks.v1+cell": {
     "cellMetadata": {},
     "inputWidgets": {},
     "nuid": "2b0f84fa-c1e7-4069-a784-15f518b7197c",
     "showTitle": false,
     "tableResultSettingsMap": {},
     "title": ""
    },
    "id": "cqj9PAMOuy7S"
   },
   "source": []
  }
 ],
 "metadata": {
  "application/vnd.databricks.v1+notebook": {
   "computePreferences": null,
   "dashboards": [],
   "environmentMetadata": null,
   "inputWidgetPreferences": null,
   "language": "python",
   "notebookMetadata": {
    "mostRecentlyExecutedCommandWithImplicitDF": {
     "commandId": -1,
     "dataframes": [
      "_sqldf"
     ]
    },
    "pythonIndentUnit": 4
   },
   "notebookName": "music_reco_Oct24 (1)",
   "widgets": {}
  },
  "colab": {
   "provenance": []
  },
  "kernelspec": {
   "display_name": "Python 3",
   "name": "python3"
  },
  "language_info": {
   "name": "python"
  }
 },
 "nbformat": 4,
 "nbformat_minor": 0
}